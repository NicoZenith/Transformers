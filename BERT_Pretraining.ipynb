{
  "cells": [
    {
      "cell_type": "markdown",
      "metadata": {
        "colab_type": "text",
        "id": "view-in-github"
      },
      "source": [
        "<a href=\"https://colab.research.google.com/github/NicoZenith/Transformers/blob/main/BERT_Pretraining.ipynb\" target=\"_parent\"><img src=\"https://colab.research.google.com/assets/colab-badge.svg\" alt=\"Open In Colab\"/></a>"
      ]
    },
    {
      "cell_type": "code",
      "execution_count": 1,
      "metadata": {
        "colab": {
          "base_uri": "https://localhost:8080/",
          "height": 624,
          "referenced_widgets": [
            "2bf7bddf407042a8adff7e33afecd390",
            "90e5b106c5044df587523c698ddb367b",
            "25f5aeddfac44866969389bbfc2d38bd",
            "2bb0e82f11944a47918e379ac030fbe8",
            "c2a46f08882941d48f7a7b26cd98ea9d",
            "1669807375e340b2854ab7261fae1e8d",
            "4355b10833a04103b025bcc691c743ca",
            "14760a7fdeac4ecb8885159207ec965d",
            "bab8792ceaef488ca4a6eae262e224a8",
            "7942b0d0b2d542a9aedf196a36fa9a5d",
            "fb3ce1334e6f459d8825855326da7b60",
            "6a1a77bc8ce440f0a1b0ce88c90cbbb8",
            "3037b76e9f5544d69420f214e09e5a6d",
            "0b2c713f833245d196e74752257b496c",
            "f45c15b5310b49a0997858074a6a9059",
            "b2897f556ebc44cb8732a5fdece28807",
            "822bc904adff44e8b1fc6d5a1e6a5c5f",
            "0fdcf1551b5146f4b19fc2203f97df29",
            "b1a995ca4796424280a1937bbdf47d23",
            "619d232705834f50b11320643130f496",
            "cd310d66bdfb4c76b735f7bb23e6f741",
            "9f7d1c9e59f14c26a337764c382dcbc2",
            "9e19db1b97fb40c19e5fef76d8d3e9f7",
            "ff32400f418446ed821a51a82d59f359",
            "521184ee0c444736bbbe3bbddc16113f",
            "d2552f7852ee45ff82b70d02fe992112",
            "810f5f9d704c4908aeb81da6a3b0b677",
            "36c935b6b1c2424a818a70f4b5f4a893",
            "d95645bbd6de4071b448bf70ecf49223",
            "0fe4551038574ee888753cd8d3a37aa5",
            "fd929467fa504561a4a4c8750199634e",
            "b87d009f53264ed1bd73b016b34ebbc9",
            "eb43050defb940bdbb102f5619b6cd59",
            "3f4f5516a29a401599d1ba4101c9b1f5",
            "473f58c46f294c8e80ff0523a344600c",
            "25df5562090047f4ba7a9a1e6e12f613",
            "02855500200c4d389bcc716b0eddf350",
            "50a66131298946fe8ad59f02e08f69d6",
            "4dcecd871b9441da861053bfa5d3a556",
            "81ca145c6e0a41ab99b065aa85c7ad87",
            "1d7a2e86167c45d794510897ba83ce95",
            "272100da3db140db9127186520f6492c",
            "6c0d3d2610204002afcaab7643fd2334",
            "3f9b76b56be94c03a8a286b24eeb65ce"
          ]
        },
        "id": "kVsxv6aR353k",
        "outputId": "28ce6e5e-c7f7-4703-ee40-8da5f8c2395f"
      },
      "outputs": [
        {
          "name": "stderr",
          "output_type": "stream",
          "text": [
            "/Users/deperrois/PycharmProjects/Transformers/.venv/lib/python3.9/site-packages/tqdm/auto.py:21: TqdmWarning: IProgress not found. Please update jupyter and ipywidgets. See https://ipywidgets.readthedocs.io/en/stable/user_install.html\n",
            "  from .autonotebook import tqdm as notebook_tqdm\n"
          ]
        }
      ],
      "source": [
        "import requests\n",
        "import zipfile\n",
        "import io\n",
        "\n",
        "from torch.utils.data import Dataset\n",
        "from transformers import AutoTokenizer\n",
        "\n",
        "from transformer_layers import * \n",
        "from utils import * \n",
        "\n",
        "model_name = \"bert-base-uncased\"  # Replace with the desired pre-trained model\n",
        "tokenizer = AutoTokenizer.from_pretrained(model_name)\n",
        "\n"
      ]
    },
    {
      "cell_type": "markdown",
      "metadata": {},
      "source": [
        "## Import WikiText2 dataset"
      ]
    },
    {
      "cell_type": "code",
      "execution_count": 2,
      "metadata": {},
      "outputs": [],
      "source": [
        "\n",
        "url = 'https://s3.amazonaws.com/research.metamind.io/wikitext/wikitext-2-v1.zip'\n",
        "response = requests.get(url)\n",
        "\n",
        "with zipfile.ZipFile(io.BytesIO(response.content)) as zip_file:\n",
        "    zip_file.extractall()\n",
        "\n",
        "train_file = 'wikitext-2/wiki.train.tokens'\n",
        "valid_file = 'wikitext-2/wiki.valid.tokens'\n",
        "test_file = 'wikitext-2/wiki.test.tokens'\n",
        "\n",
        "with open(train_file, 'r', encoding='utf-8') as file:\n",
        "    train_data = file.read()\n",
        "\n",
        "with open(valid_file, 'r', encoding='utf-8') as file:\n",
        "    valid_data = file.read()\n",
        "\n",
        "with open(test_file, 'r', encoding='utf-8') as file:\n",
        "    test_data = file.read()"
      ]
    },
    {
      "cell_type": "markdown",
      "metadata": {
        "id": "L3nS2hB8bLHR"
      },
      "source": [
        "Let's first create a function that takes one (or two) sentences as input, and add the required tokens cls and sep. We also output the `segment` variable, that tells whether it is the first or the 2nd sentence.  "
      ]
    },
    {
      "cell_type": "code",
      "execution_count": 3,
      "metadata": {
        "id": "oATh52EozQlP"
      },
      "outputs": [],
      "source": [
        "def get_tokens_and_segments(tokens_a, tokens_b=None):\n",
        "    \"\"\"\n",
        "    From one or two sentence, concatenate the BERT specific tokens and generate the segment encoding\n",
        "    :tokens_a: tokens from the first sentence\n",
        "    :tokens_b: tokens from the second sentence\n",
        "    :return: the concatenated tokens sequence and the associated segments encoding (0 for 1st sentence, 1 for 2nd)\n",
        "    \"\"\"\n",
        "    tokens = ['<cls>'] + tokens_a + ['<sep>']\n",
        "    segments = [0] * (len(tokens_a) + 2)\n",
        "    if tokens_b is not None:\n",
        "        tokens = tokens + tokens_b + ['<sep>']\n",
        "        segments = segments + [1] * (len(tokens_b) + 1)\n",
        "    return tokens, segments\n",
        "\n"
      ]
    },
    {
      "cell_type": "code",
      "execution_count": 4,
      "metadata": {
        "colab": {
          "base_uri": "https://localhost:8080/"
        },
        "id": "zKBXtwo9fFS7",
        "outputId": "1497caed-2443-467f-9cca-fcb66e1abb46"
      },
      "outputs": [
        {
          "name": "stdout",
          "output_type": "stream",
          "text": [
            "['<cls>', 'hello', 'i', 'would', 'like', 'to', 'talk', 'about', 'machine', 'learning', '<sep>', 'it', 'is', 'going', 'to', 'be', 'very', 'interesting', '<sep>']\n",
            "[0, 0, 0, 0, 0, 0, 0, 0, 0, 0, 0, 1, 1, 1, 1, 1, 1, 1, 1]\n"
          ]
        }
      ],
      "source": [
        "tokens_a = tokenizer.tokenize( \"Hello I would like to talk about machine learning\")\n",
        "tokens_b = tokenizer.tokenize( \"It is going to be very interesting\")\n",
        "\n",
        "tokens, segments = get_tokens_and_segments(tokens_a, tokens_b)\n",
        "print(tokens)\n",
        "print(segments)\n"
      ]
    },
    {
      "cell_type": "markdown",
      "metadata": {},
      "source": [
        "## BERT architecture \n",
        "\n",
        "We here define the `BERTEncoder` class that builds the architecture of the BERT encoder-only transformer. A particular choice is to use a trainable position embedding matrix, a bidirectional attention mechanism `forward_mask=None` and an adaptable attention mask for the padded tokens built from `valid_lens`.  "
      ]
    },
    {
      "cell_type": "code",
      "execution_count": 5,
      "metadata": {
        "id": "E3q-Y27DzerW"
      },
      "outputs": [],
      "source": [
        "import torch.nn as nn\n",
        "import torch\n",
        "from torch.nn import functional as F\n",
        "import math\n",
        "\n",
        "device = 'cuda' if torch.cuda.is_available() else 'cpu'\n",
        "\n",
        "num_hiddens = 384\n",
        "n_head = 8\n",
        "n_layer = 4\n",
        "dropout = 0.2\n",
        "d_model = 384\n",
        "max_len = 64\n",
        "vocab_size = 30526\n",
        "\n",
        "\n",
        "\n",
        "class BERTEncoder(nn.Module):\n",
        "    \"\"\" BERT Encoder \"\"\"\n",
        "    def __init__(self, d_model, num_heads):\n",
        "        super(BERTEncoder, self).__init__()\n",
        "        # each token directly reads off the logits for the next token from a lookup table\n",
        "        self.token_embedding_table = nn.Embedding(vocab_size, d_model)\n",
        "        self.segment_embedding = nn.Embedding(2, d_model)\n",
        "        self.pos_embedding = nn.Parameter(torch.randn(1, max_len,\n",
        "                                                      d_model))\n",
        "        self.blocks = nn.Sequential(*[Block( d_model, num_heads, dropout) for _ in range(n_layer)])\n",
        "        self.ln_f = nn.LayerNorm(d_model) # final layer norm\n",
        "        self.lm_head = nn.Linear(d_model, vocab_size)\n",
        "\n",
        "        self.apply(self._init_weights)\n",
        "\n",
        "\n",
        "    def _init_weights(self, module):\n",
        "        if isinstance(module, nn.Linear):\n",
        "            torch.nn.init.normal_(module.weight, mean=0.0, std=0.02)\n",
        "            if module.bias is not None:\n",
        "                torch.nn.init.zeros_(module.bias)\n",
        "        elif isinstance(module, nn.Embedding):\n",
        "            torch.nn.init.normal_(module.weight, mean=0.0, std=0.02)\n",
        "\n",
        "    def forward(self, tokens, segments, valid_lens=None, forward_mask=None):\n",
        "\n",
        "        X = self.token_embedding_table(tokens) + self.segment_embedding(segments)\n",
        "\n",
        "        X = X + self.pos_embedding[:, :X.shape[1], :]\n",
        "        for blk in self.blocks:\n",
        "            X = blk(X, valid_lens, forward_mask=None) # (B,T,C)\n",
        "        X = self.ln_f(X) # (B,T,C)\n",
        "\n",
        "        return X\n"
      ]
    },
    {
      "cell_type": "code",
      "execution_count": 6,
      "metadata": {
        "colab": {
          "base_uri": "https://localhost:8080/"
        },
        "id": "ygkgjKbYca0_",
        "outputId": "22f49a28-5b87-49f7-9d3b-f3c2b6075039"
      },
      "outputs": [
        {
          "name": "stdout",
          "output_type": "stream",
          "text": [
            "torch.Size([2, 64, 384])\n"
          ]
        }
      ],
      "source": [
        "d_model, num_heads = 384, 4\n",
        "\n",
        "encoder = BERTEncoder(d_model, num_heads)\n",
        "batch_size = 2\n",
        "tokens = torch.randint(low=0, high=vocab_size, size = (batch_size, max_len), dtype=torch.int)\n",
        "segments = torch.zeros((batch_size, max_len), dtype=torch.int)\n",
        "\n",
        "X = encoder(tokens, segments)\n",
        "print(X.shape)"
      ]
    },
    {
      "cell_type": "markdown",
      "metadata": {
        "id": "4OnK0a7Reo6C"
      },
      "source": [
        "## Masked language modeling\n",
        "\n",
        "BERT randomly masks tokens and uses from the bidirectional context to predict the mask token in a self-supervision fashion. This is the masked language mode.\n",
        "\n",
        "The idea is to select 15% of the tokens at random and try to predict them in the output layer of the BERT Encoder. To avoid the trivial solution of picking the input as an output, we rarely provide the actual token as input. More precisely, it will be replaced by:\n",
        "- a special `<mask>` token 80% of the time\n",
        "- another token picked randomly from the vocabulary 10% of the time\n",
        "- the same token 10% of the time (not replaced)\n",
        "\n",
        "We implement the following `MaskLM` class to predict the tokens of the selected masked tokens. This is perform by a 1 hidden layer MLP, that takes as input the predicted tokens. To perform the forward pass, we thus provide the positions of each masked token for each data point from the minibatch, along with the output of the encoder X."
      ]
    },
    {
      "cell_type": "code",
      "execution_count": 77,
      "metadata": {
        "id": "VBRx22iYTfUQ"
      },
      "outputs": [],
      "source": [
        "class MaskLM(nn.Module):\n",
        "    def __init__(self, d_model):\n",
        "        super(MaskLM, self).__init__()\n",
        "        self.mlp = nn.Sequential(\n",
        "            nn.Linear(d_model, d_model),\n",
        "            nn.ReLU(),\n",
        "            nn.LayerNorm(d_model),\n",
        "            nn.Linear(d_model, vocab_size)\n",
        "        )\n",
        "\n",
        "    def forward(self, X, pred_positions):\n",
        "        num_predictions = pred_positions.shape[1]\n",
        "        pred_positions = pred_positions.reshape(-1)\n",
        "        batch_size = X.shape[0]\n",
        "        batch_idx = torch.arange(0, batch_size)\n",
        "        batch_idx = torch.repeat_interleave(batch_idx, num_predictions)\n",
        "        masked_X = X[batch_idx, pred_positions]\n",
        "        masked_X = masked_X.reshape((batch_size, num_predictions, -1))\n",
        "        mlm_Y_hat = self.mlp(masked_X)\n",
        "        return mlm_Y_hat\n"
      ]
    },
    {
      "cell_type": "code",
      "execution_count": 78,
      "metadata": {
        "id": "whN3MiPRYnxh"
      },
      "outputs": [],
      "source": [
        "mask = MaskLM(d_model)\n",
        "pred_positions = torch.tensor([[0, 5, 9], [3, 5, 9]])\n",
        "mlm_Y_hat = mask(X, pred_positions)\n"
      ]
    },
    {
      "cell_type": "code",
      "execution_count": 79,
      "metadata": {
        "colab": {
          "base_uri": "https://localhost:8080/"
        },
        "id": "Lr4MITFzY5Fc",
        "outputId": "664499f2-92bd-4fa0-9106-30eca2c3b4e6"
      },
      "outputs": [
        {
          "name": "stdout",
          "output_type": "stream",
          "text": [
            "torch.Size([2, 3, 30526])\n"
          ]
        }
      ],
      "source": [
        "print(mlm_Y_hat.shape)"
      ]
    },
    {
      "cell_type": "markdown",
      "metadata": {
        "id": "oIv8JMlog-xd"
      },
      "source": [
        "Having the ground truth labels `mlm_Y` of the predicted probabilites for each masked token `mlm_Y_hat`, we can compute the cross-entropy-loss between these."
      ]
    },
    {
      "cell_type": "code",
      "execution_count": 80,
      "metadata": {
        "colab": {
          "base_uri": "https://localhost:8080/"
        },
        "id": "j2L06GkjhpUI",
        "outputId": "2b718bb5-db23-4512-e06b-c5d8f3664e41"
      },
      "outputs": [
        {
          "data": {
            "text/plain": [
              "torch.Size([6])"
            ]
          },
          "execution_count": 80,
          "metadata": {},
          "output_type": "execute_result"
        }
      ],
      "source": [
        "mlm_Y = torch.tensor([[0, 5, 9], [3, 5, 9]])\n",
        "loss = nn.CrossEntropyLoss(reduction='none')\n",
        "mlm_loss = loss(mlm_Y_hat.reshape(-1, vocab_size), mlm_Y.reshape(-1))\n",
        "mlm_loss.shape"
      ]
    },
    {
      "cell_type": "markdown",
      "metadata": {
        "id": "8VSmQMS0jEXi"
      },
      "source": [
        "## Next sentence prediction\n",
        "\n",
        "To help understand the relationship between two text sequences, BERT considers a binary classification task, *Next Sentence Prediction*, in its pretraining. The sentence pairs are half of the time following each other (label True), half of the time taken as random (label False).\n",
        "\n",
        "We construct a `NextSentencePred()` class that uses a one-hidden-layer MLP to predict whether the second sentence is following the first sentence or not. The BERT representation of the special token `<cls>` contains information from both classes (due to the self-attention mechanism), and the prediction is made from this predicted token.\n"
      ]
    },
    {
      "cell_type": "code",
      "execution_count": 82,
      "metadata": {
        "id": "lUJy1s46kl9Y"
      },
      "outputs": [],
      "source": [
        "class NextSentencePred(nn.Module):\n",
        "    def __init__(self, d_model):\n",
        "        super(NextSentencePred, self).__init__()\n",
        "        self.mlp = nn.Sequential(\n",
        "            nn.Linear(d_model, d_model),\n",
        "            nn.ReLU(),\n",
        "            nn.Linear(d_model, 2)\n",
        "        )\n",
        "\n",
        "    def forward(self, X):\n",
        "        cls_X = X[:, 0, :]\n",
        "        return self.mlp(cls_X)\n"
      ]
    },
    {
      "cell_type": "code",
      "execution_count": 83,
      "metadata": {
        "colab": {
          "base_uri": "https://localhost:8080/"
        },
        "id": "mHrefPG3lcSi",
        "outputId": "b1a627af-d22b-4cdf-fee4-9b7c4b6fb8de"
      },
      "outputs": [
        {
          "data": {
            "text/plain": [
              "torch.Size([2, 2])"
            ]
          },
          "execution_count": 83,
          "metadata": {},
          "output_type": "execute_result"
        }
      ],
      "source": [
        "nsp = NextSentencePred(d_model)\n",
        "prediction = nsp(X)\n",
        "prediction.shape"
      ]
    },
    {
      "cell_type": "markdown",
      "metadata": {
        "id": "CSJXbGycmVWR"
      },
      "source": [
        "## Putting it altogether"
      ]
    },
    {
      "cell_type": "code",
      "execution_count": 86,
      "metadata": {
        "id": "4JQbxd2slyRK"
      },
      "outputs": [],
      "source": [
        "class BERTModel(nn.Module):\n",
        "    def __init__(self, d_model, num_heads):\n",
        "        super(BERTModel, self).__init__()\n",
        "        self.encoder = BERTEncoder(d_model, num_heads)\n",
        "        self.mlm = MaskLM(d_model)\n",
        "        self.nsp = NextSentencePred(d_model)\n",
        "\n",
        "\n",
        "    def forward(self, tokens, segments, pred_positions=None, valid_lens=None):\n",
        "        encoded_X = self.encoder(tokens, segments)\n",
        "        if pred_positions is not None:\n",
        "            mlm_Y_hat = self.mlm(encoded_X, pred_positions)\n",
        "        else:\n",
        "            mlm_Y_hat = None\n",
        "\n",
        "        nsp_Y_hat = self.nsp(encoded_X)\n",
        "\n",
        "        return encoded_X, mlm_Y_hat, nsp_Y_hat\n",
        "\n"
      ]
    },
    {
      "cell_type": "markdown",
      "metadata": {
        "id": "J7sQvpwMoJI_"
      },
      "source": [
        "## A closer look on the dataset "
      ]
    },
    {
      "cell_type": "code",
      "execution_count": 87,
      "metadata": {
        "colab": {
          "base_uri": "https://localhost:8080/"
        },
        "id": "6DPbSI5Cn781",
        "outputId": "1c64a8cd-e951-44c6-8840-31196535fe5b"
      },
      "outputs": [
        {
          "name": "stdout",
          "output_type": "stream",
          "text": [
            " \n",
            " = Valkyria Chronicles III = \n",
            " \n",
            " Senjō no Valkyria 3 : <unk> Chronicles ( Japanese : 戦場のヴァルキュリア3 , lit . Valkyria of the Battlefield 3 ) , commonly referred to as Valkyria Chronicles III outside Japan , is a tactical role @-@ playing video game developed by Sega and Media.Vision for the PlayStation Portable . Released in January 2011 in Japan , it is the third game in the Valkyria series . <unk> the same fusion of tactical and real @-@ time gameplay as its predecessors , the story runs parallel to the first game and follows the \" Nameless \" , a penal military unit serving the nation of Gallia during the Second Europan War who perform secret black operations and are pitted against the Imperial unit \" <unk> Raven \" . \n",
            " The game began development in 2010 , carrying over a large portion of the work done on Valkyria Chronicles II . While it retained the standard features of the series , it also underwent multiple adjustments , such as making the game more <unk> for series newcomers . Char\n"
          ]
        }
      ],
      "source": [
        "print(train_data[:1000])"
      ]
    },
    {
      "cell_type": "markdown",
      "metadata": {},
      "source": [
        "We use the function `_read_wiki` to obtain lists of lists of lists."
      ]
    },
    {
      "cell_type": "code",
      "execution_count": 88,
      "metadata": {
        "id": "uke_Oa2_pK3P"
      },
      "outputs": [],
      "source": [
        "paragraphs = _read_wiki('wikitext-2')"
      ]
    },
    {
      "cell_type": "code",
      "execution_count": 89,
      "metadata": {
        "colab": {
          "base_uri": "https://localhost:8080/"
        },
        "id": "3d4kGbTipUcO",
        "outputId": "c69d991a-9d55-4036-84c7-36ad9749a7f1"
      },
      "outputs": [
        {
          "data": {
            "text/plain": [
              "['the music video for \" loverboy \" received generally mixed reviews from critics , many of whom felt carey was portrayed in an overtly sexual manner',\n",
              " 'a writer from the guardian criticized the video , calling it \" <unk> \" and describing carey \\'s choreography as \" running <unk> \"',\n",
              " 'slant magazine \\'s sal cinquemani felt the video was \" brilliantly over @-@ the @-@ top \" , while an anonymous columnist from nme commented that it would cause male viewers to \" play with themselves \" after watching',\n",
              " 'in a countdown of the \" the 5 least <unk> music videos \" , <unk> <unk> from nme included the video at number three , writing how the singer \" spins with the mad @-@ eyed grace of someone who hasn ’ t been to sleep for 72 hours \" ( referring to carey \\'s mention of insomnia as a reason for her breakdown )',\n",
              " \"<unk> burns of the michigan daily was critical of carey 's portrayal in the video , primarily her double @-@ handkerchief bra\",\n",
              " 'he felt that in doing so , carey was <unk> herself and her image to resemble younger pop singers such as britney spears .']"
            ]
          },
          "execution_count": 89,
          "metadata": {},
          "output_type": "execute_result"
        }
      ],
      "source": [
        "paragraphs[35]"
      ]
    },
    {
      "cell_type": "markdown",
      "metadata": {
        "id": "CQrj2w49XwUu"
      },
      "source": [
        "In the following we implement helper functions for the two BERT pretraining tasks: next sentence prediction and masked language modeling.\n",
        "\n",
        "#### NSP"
      ]
    },
    {
      "cell_type": "code",
      "execution_count": 90,
      "metadata": {
        "id": "2A3Qcx2ZpWyP"
      },
      "outputs": [],
      "source": [
        "def _get_next_sentence(sentence, next_sentence, paragraphs):\n",
        "    \"\"\"\n",
        "    Generate a pair of sentences along with a label assessing whether the 2 sentences are following each other\n",
        "\n",
        "    :sentence: sentence picked among all paragraphs\n",
        "    :next_sentence: sentence following the first sentence\n",
        "    :paragraphs: list of lists of lists, all corpus data\n",
        "    :return: pair of sentence and the label True or False\n",
        "\n",
        "    \"\"\"\n",
        "    if random.random()< 0.5:\n",
        "        is_next = True\n",
        "    else:\n",
        "        next_sentence = random.choice(random.choice(paragraphs))\n",
        "        is_next = False\n",
        "\n",
        "    return sentence, next_sentence, is_next\n"
      ]
    },
    {
      "cell_type": "code",
      "execution_count": 91,
      "metadata": {
        "id": "bazS_IANuBj4"
      },
      "outputs": [],
      "source": [
        "def _get_nsp_data_from_paragraph(paragraph, paragraphs, max_len):\n",
        "    \"\"\"\n",
        "    Generate training examples for NSP by invoking the _get_next_sentence function\n",
        "    :paragraph: list of sentences, where each sentence is a list of tokens\n",
        "    :paragraphs: list of paragraphs\n",
        "    :max_len: maximum length of a BERT input sequence\n",
        "    :return: list of tuples (tokens, segments, is_next)\n",
        "    \"\"\"\n",
        "    nsp_data_from_paragraph = []\n",
        "    for i in range(len(paragraph)-1):\n",
        "        sentence = paragraph[i]\n",
        "        next_sentence = paragraph[i+1]\n",
        "\n",
        "        tokens_a, tokens_b, is_next =  _get_next_sentence(sentence, next_sentence, paragraphs)\n",
        "\n",
        "        if len(tokens_a) + len(tokens_b) + 3 > max_len:\n",
        "            continue\n",
        "\n",
        "        tokens, segments = get_tokens_and_segments(tokens_a, tokens_b)\n",
        "        nsp_data_from_paragraph.append((tokens, segments, is_next))\n",
        "    return nsp_data_from_paragraph\n",
        "\n"
      ]
    },
    {
      "cell_type": "code",
      "execution_count": 92,
      "metadata": {
        "id": "yFhmU8QRhgF0"
      },
      "outputs": [],
      "source": [
        "paragraphs = [[tokenizer.tokenize(sentence) for sentence in paragraph] for paragraph in paragraphs]"
      ]
    },
    {
      "cell_type": "code",
      "execution_count": 93,
      "metadata": {
        "id": "wFoArSFdh2o9"
      },
      "outputs": [],
      "source": [
        "nsp_data_from_paragraph = _get_nsp_data_from_paragraph(paragraphs[0], paragraphs, max_len=512)"
      ]
    },
    {
      "cell_type": "code",
      "execution_count": 94,
      "metadata": {
        "colab": {
          "base_uri": "https://localhost:8080/"
        },
        "id": "TDU2pp1RiEHx",
        "outputId": "af04757c-a1dc-48a5-de1c-197f132f7ce9"
      },
      "outputs": [
        {
          "name": "stdout",
          "output_type": "stream",
          "text": [
            "(['<cls>', 'the', 'university', 'is', 'the', 'home', 'of', 'two', 'centers', 'of', 'excellence', ':', 'the', 'center', 'of', 'excellence', 'in', '<', 'un', '##k', '>', 'and', 'marine', '<', 'un', '##k', '>', 'and', 'the', 'center', 'for', 'ocean', 'energy', 'technology', '<sep>', 'these', 'centers', 'have', 'been', 'selected', 'by', 'florida', \"'\", 's', '<', 'un', '##k', '>', 'technology', 'commission', 'to', 'receive', 'grants', 'to', 'continue', 'and', 'increase', 'their', 'operations', '<sep>'], [0, 0, 0, 0, 0, 0, 0, 0, 0, 0, 0, 0, 0, 0, 0, 0, 0, 0, 0, 0, 0, 0, 0, 0, 0, 0, 0, 0, 0, 0, 0, 0, 0, 0, 0, 1, 1, 1, 1, 1, 1, 1, 1, 1, 1, 1, 1, 1, 1, 1, 1, 1, 1, 1, 1, 1, 1, 1, 1, 1], True)\n"
          ]
        }
      ],
      "source": [
        "print(nsp_data_from_paragraph[0])"
      ]
    },
    {
      "cell_type": "markdown",
      "metadata": {
        "id": "StQu4s_TgDxE"
      },
      "source": [
        "#### MLM"
      ]
    },
    {
      "cell_type": "code",
      "execution_count": 95,
      "metadata": {
        "id": "rbf4p5WRXsPl"
      },
      "outputs": [],
      "source": [
        "def _replace_mlm_tokens(tokens, candidate_pred_positions, num_mlm_preds, vocab):\n",
        "    \"\"\"\n",
        "    Generate training examples for the masked language modeling task from a BERT input sequence.\n",
        "    At each prediction position, the token may be replaced by a special '<mask>' token or a random token, or remain unchanged.\n",
        "\n",
        "    :tokens: list of otkens representing a BERT input sequence\n",
        "    :candidate_pred_positions: list of token indices of the BERT input sequence excluding those of special tokens\n",
        "    :num_mlm_preds: number of predictions\n",
        "    :return: input tokens after possible replacement, token indices where predictions take place and labels for these predictions\n",
        "    \"\"\"\n",
        "    indices = torch.randperm(len(candidate_pred_positions))[:num_mlm_preds]\n",
        "    pred_positions_and_labels = []\n",
        "    for i in range(num_mlm_preds):\n",
        "        token_to_predict = tokens[indices[i]]\n",
        "        random_num = random.random()\n",
        "        if random_num < 0.8:\n",
        "            tokens[indices[i]] = '<mask>'\n",
        "        elif random_num > 0.9:\n",
        "            tokens[indices[i]] = random.choice(list(vocab.keys()))\n",
        "        pred_positions_and_labels.append((indices[i], token_to_predict))\n",
        "    return tokens, pred_positions_and_labels"
      ]
    },
    {
      "cell_type": "code",
      "execution_count": 96,
      "metadata": {
        "colab": {
          "base_uri": "https://localhost:8080/"
        },
        "id": "xwrU8yySwS_d",
        "outputId": "0e8c710e-3911-4c2c-b767-7d8588cfef13"
      },
      "outputs": [
        {
          "name": "stdout",
          "output_type": "stream",
          "text": [
            "['the', 'university', 'is', 'the', 'home', 'of', 'two', 'centers', 'of', 'excellence', '<mask>', 'the', 'center', 'of', 'excellence', 'in', '<', 'un', '##k', '>', 'and', 'marine', '<', 'un', '##k', '>', 'and', 'the', 'center', 'grunted', 'ocean', 'energy', 'technology']\n",
            "[(tensor(10), ':'), (tensor(29), 'for'), (tensor(4), 'home')]\n"
          ]
        }
      ],
      "source": [
        "tokens = paragraphs[0][0]\n",
        "candidate_pred_positions = paragraphs[0][0]\n",
        "vocab = tokenizer.vocab\n",
        "num_mlm_preds = 3\n",
        "\n",
        "tokens, pred_positions_and_labels = _replace_mlm_tokens(tokens, candidate_pred_positions, num_mlm_preds, vocab)\n",
        "print(tokens)\n",
        "print(pred_positions_and_labels)\n"
      ]
    },
    {
      "cell_type": "code",
      "execution_count": 97,
      "metadata": {
        "id": "ZR-YNJxh7Oau"
      },
      "outputs": [],
      "source": [
        "def _get_mlm_data_from_tokens(tokens, vocab):\n",
        "    \"\"\"\n",
        "    Returns indices of the input tokens (after possible token replacement) by invoking the _replace_mlm_tokens function,\n",
        "    along with the token indices where predictions take place, and label indices for these predictions\n",
        "    :tokens: list of strings\n",
        "    :vocab: list of vocabulary words\n",
        "    \"\"\"\n",
        "    candidate_pred_positions = []\n",
        "    for i, token in enumerate(tokens):\n",
        "        # Special tokens are not predicted in the masked language modeling task\n",
        "        if token in ['<cls>', '<sep>']:\n",
        "            continue\n",
        "        candidate_pred_positions.append(i)\n",
        "    # 15% of the random tokens are predicted in the masked language modeling task\n",
        "    num_mlm_preds = max(1, round(len(tokens)*0.15))\n",
        "    mlm_input_tokens, pred_positions_and_labels = _replace_mlm_tokens(tokens, candidate_pred_positions, num_mlm_preds, vocab)\n",
        "    pred_positions_and_labels = sorted(pred_positions_and_labels, key=lambda x:x[0])\n",
        "    pred_positions = [v[0] for v in pred_positions_and_labels]\n",
        "    mlm_pred_labels = [v[1] for v in pred_positions_and_labels]\n",
        "\n",
        "    mlm_input_tokens_ids = tokenizer.convert_tokens_to_ids(mlm_input_tokens)\n",
        "    mlm_pred_labels_ids = tokenizer.convert_tokens_to_ids(mlm_pred_labels)\n",
        "\n",
        "    return mlm_input_tokens_ids, pred_positions, mlm_pred_labels_ids\n"
      ]
    },
    {
      "cell_type": "code",
      "execution_count": 98,
      "metadata": {
        "colab": {
          "base_uri": "https://localhost:8080/"
        },
        "id": "5PAME_nvxLJY",
        "outputId": "07670d98-b421-4640-8a02-7c2302734c56"
      },
      "outputs": [],
      "source": [
        "special_tokens = ['<pad>', '<mask>', '<cls>', '<sep>']\n",
        "\n",
        "ids = tokenizer.convert_tokens_to_ids(special_tokens)\n",
        "\n",
        "\n",
        "tokenizer.add_tokens(special_tokens)\n",
        "\n",
        "mlm_input_tokens_ids, pred_positions, mlm_pred_labels_ids = _get_mlm_data_from_tokens(tokens, vocab)"
      ]
    },
    {
      "cell_type": "code",
      "execution_count": 99,
      "metadata": {
        "colab": {
          "base_uri": "https://localhost:8080/"
        },
        "id": "y3XOoGjpzoKd",
        "outputId": "766a524a-52b5-49a3-a0eb-d454cc01dadf"
      },
      "outputs": [
        {
          "name": "stdout",
          "output_type": "stream",
          "text": [
            "[1996, 2118, 2003, 1996, 30523, 1997, 2048, 15976, 1997, 30523, 30523, 1996, 30523, 1997, 8012, 1999, 1026, 4895, 2243, 1028, 1998, 3884, 1026, 4895, 2243, 1028, 1998, 1996, 2415, 30523, 4153, 2943, 2974]\n",
            "[tensor(4), tensor(7), tensor(9), tensor(12), tensor(29)]\n",
            "[2188, 6401, 8012, 2415, 14922]\n"
          ]
        }
      ],
      "source": [
        "print(mlm_input_tokens_ids)\n",
        "print(pred_positions)\n",
        "print(mlm_pred_labels_ids)"
      ]
    },
    {
      "cell_type": "markdown",
      "metadata": {
        "id": "A5pi8Co9AeL0"
      },
      "source": [
        "#### Transforming text into the pretraining dataset"
      ]
    },
    {
      "cell_type": "code",
      "execution_count": 100,
      "metadata": {
        "id": "Cu48jMtgAt1A"
      },
      "outputs": [],
      "source": [
        "def _pad_bert_inputs(examples, max_len, vocab):\n",
        "    \"\"\"\n",
        "    Append the special '<pad>' token to the inputs\n",
        "    :examples: contain the outputs from the helper functions _get_nsp_data_from_paragraph and _get_mlm_data_from_tokens\n",
        "    :max_len: maximum number of tokens in a BERT input sequence\n",
        "    :vocab: list of vacab words\n",
        "    \"\"\"\n",
        "    max_num_mlm_preds = round(max_len * 0.15)\n",
        "    all_token_ids, all_segments, valid_lens = [], [], []\n",
        "    all_pred_positions, all_mlm_weights, all_mlm_labels = [], [], []\n",
        "    nsp_labels = []\n",
        "\n",
        "    for (token_ids, pred_positions, mlm_pred_label_ids, segments, is_next) in examples:\n",
        "        all_token_ids.append( torch.tensor(token_ids + [vocab['<pad>']] * (max_len - len(token_ids)), dtype=torch.long ))\n",
        "        all_segments.append( torch.tensor(segments + [0] * (max_len - len(segments)), dtype=torch.long) )\n",
        "        # 'valid_lens' excludes count of '<pad>' tokens\n",
        "        valid_lens.append(torch.tensor(len(token_ids), dtype=torch.int))\n",
        "        all_pred_positions.append(torch.tensor(pred_positions + [0] * (max_num_mlm_preds - len(pred_positions)), dtype=torch.long ))\n",
        "        # predictions of padded tokens will be filtered out in the loss via multiplication of 0 weights\n",
        "        all_mlm_weights.append(\n",
        "            torch.tensor([1.0] * len(mlm_pred_label_ids) + [0.0] * (max_num_mlm_preds - len(pred_positions)), dtype=torch.float32))\n",
        "        all_mlm_labels.append(\n",
        "            torch.tensor(mlm_pred_label_ids + [0]*(max_num_mlm_preds - len(mlm_pred_label_ids)) , dtype=torch.long))\n",
        "        nsp_labels.append(torch.tensor(is_next, dtype=torch.long))\n",
        "\n",
        "\n",
        "    return (all_token_ids, all_segments, valid_lens, all_pred_positions, all_mlm_weights, all_mlm_labels, nsp_labels)\n",
        "\n"
      ]
    },
    {
      "cell_type": "markdown",
      "metadata": {
        "id": "iA8Ej0TvIkwN"
      },
      "source": [
        "We can now construct the `_WikiTextDataset` class for pretraining BERT. By implementing the `__getitem__` method, we can arbitrarily access the pretraining (MLM and NSP) examples generated from a pair of setences from the WikiText2 corpus.\n",
        "We use the WordPiece tokenizer (vocab_size = 30000)."
      ]
    },
    {
      "cell_type": "code",
      "execution_count": 101,
      "metadata": {
        "id": "OY14OOOE9LKr"
      },
      "outputs": [],
      "source": [
        "\n",
        "\n",
        "class _WikiTextDataset(Dataset):\n",
        "    def __init__(self, tokenizer, paragraphs, max_len):\n",
        "        \"\"\"\n",
        "        :paragraphs: contains a list of paragraphs, paragraphs[i] is a list of sentence strings\n",
        "        We want to output paragraphs where paragraphs[i] is a list of sentences\n",
        "        \"\"\"\n",
        "        tokenizer.add_tokens(['<pad>', '<mask>', '<cls>', '<sep>'])\n",
        "        self.vocab = tokenizer.vocab\n",
        "\n",
        "        # Get data for NSP task\n",
        "        examples = []\n",
        "        for paragraph in paragraphs:\n",
        "            examples.extend( _get_nsp_data_from_paragraph(paragraph, paragraphs, max_len) )\n",
        "\n",
        "\n",
        "        # Get data for MLM task\n",
        "        examples = [ (_get_mlm_data_from_tokens(tokens, self.vocab) + (segments, is_next)) for tokens, segments, is_next in examples ]\n",
        "\n",
        "\n",
        "        # Pad inputs\n",
        "        (self.all_token_ids, self.all_segments, self.valid_lens, self.all_pred_positions, self.all_mlm_weights, self.all_mlm_labels, self.nsp_labels ) = _pad_bert_inputs(examples, max_len, self.vocab)\n",
        "\n",
        "        # print(len(self.all_token_ids))\n",
        "\n",
        "\n",
        "    def __getitem__(self, idx):\n",
        "        return (self.all_token_ids[idx], self.all_segments[idx], self.valid_lens[idx],\n",
        "         self.all_pred_positions[idx], self.all_mlm_weights[idx], self.all_mlm_labels[idx], self.nsp_labels[idx])\n",
        "\n",
        "    def __len__(self):\n",
        "        return len(self.all_token_ids)\n",
        "\n"
      ]
    },
    {
      "cell_type": "code",
      "execution_count": 102,
      "metadata": {
        "id": "gVo7lJM7dvPW"
      },
      "outputs": [],
      "source": [
        "from torch.utils.data import DataLoader\n",
        "\n",
        "batch_size = 32\n",
        "max_len = 64\n",
        "\n",
        "\n",
        "train_dataset = _WikiTextDataset(tokenizer, paragraphs, max_len)\n"
      ]
    },
    {
      "cell_type": "code",
      "execution_count": 103,
      "metadata": {
        "id": "5L6Txgp6J-I-"
      },
      "outputs": [],
      "source": [
        "train_dataloader = DataLoader(train_dataset, batch_size=batch_size, shuffle=True)"
      ]
    },
    {
      "cell_type": "code",
      "execution_count": 104,
      "metadata": {
        "id": "ml9CT7CyeeCM"
      },
      "outputs": [],
      "source": [
        "batch = next(iter(train_dataloader))\n",
        "tokens_X, segments_X, valid_lens_x, pred_positions_X, mlm_weights_X, mlm_Y, nsp_y = batch"
      ]
    },
    {
      "cell_type": "code",
      "execution_count": 105,
      "metadata": {
        "colab": {
          "base_uri": "https://localhost:8080/"
        },
        "id": "qEgJK-VRHKk6",
        "outputId": "01f07622-7115-4c5d-d55a-2a71b5e4f529"
      },
      "outputs": [
        {
          "name": "stdout",
          "output_type": "stream",
          "text": [
            "torch.Size([32, 64]) torch.Size([32, 64]) torch.Size([32]) torch.Size([32, 10]) torch.Size([32, 10]) torch.Size([32, 10]) torch.Size([32])\n"
          ]
        }
      ],
      "source": [
        "print(tokens_X.shape, segments_X.shape, valid_lens_x.shape, pred_positions_X.shape, mlm_weights_X.shape, mlm_Y.shape, nsp_y.shape)"
      ]
    },
    {
      "cell_type": "code",
      "execution_count": 106,
      "metadata": {
        "colab": {
          "base_uri": "https://localhost:8080/"
        },
        "id": "FujOq0NQQEJ7",
        "outputId": "05f7df94-6c1c-431d-a5b2-4e3c82188114"
      },
      "outputs": [
        {
          "name": "stdout",
          "output_type": "stream",
          "text": [
            "tensor([41, 37, 29, 58, 49, 60, 26, 46, 22, 41, 57, 49, 55, 56, 51, 48, 62, 49,\n",
            "        28, 60, 61, 30, 60, 62, 37, 38, 59, 45, 64, 51, 59, 56],\n",
            "       dtype=torch.int32)\n"
          ]
        }
      ],
      "source": [
        "print(valid_lens_x)"
      ]
    },
    {
      "cell_type": "markdown",
      "metadata": {
        "id": "zVXwVYoCNS6F"
      },
      "source": [
        "## Pretraining BERT"
      ]
    },
    {
      "cell_type": "code",
      "execution_count": 107,
      "metadata": {
        "id": "kUV9RueuNl2I"
      },
      "outputs": [],
      "source": [
        "net = BERTModel(d_model, num_heads)\n",
        "loss = nn.CrossEntropyLoss()\n",
        "\n",
        "def _get_batch_loss_bert(net, loss, vocab_size, tokens_X, segments_X, valid_lens_x, pred_positions_X, mlm_weights_X, mlm_Y, nsp_y):\n",
        "    # Forward pass\n",
        "    _, mlm_Y_hat, nsp_Y_hat = net(tokens_X, segments_X, pred_positions_X, valid_lens_x)\n",
        "\n",
        "    # Compute MLM loss\n",
        "    mlm_l = loss(mlm_Y_hat.reshape(-1, vocab_size), mlm_Y.reshape(-1)) * mlm_weights_X.reshape(-1, 1)\n",
        "    mlm_l = mlm_l.sum() / (mlm_weights_X.sum() + 1e-8)\n",
        "    # Compute NSP loss\n",
        "    nsp_l = loss(nsp_Y_hat, nsp_y)\n",
        "    l = mlm_l + nsp_l\n",
        "    return mlm_l, nsp_l, l\n",
        "\n"
      ]
    },
    {
      "cell_type": "code",
      "execution_count": 108,
      "metadata": {
        "colab": {
          "base_uri": "https://localhost:8080/"
        },
        "id": "3kvxRU0bNrHx",
        "outputId": "2c3b95b9-518b-4eba-fa1f-39a7596bba85"
      },
      "outputs": [
        {
          "name": "stdout",
          "output_type": "stream",
          "text": [
            "11.215914726257324\n"
          ]
        },
        {
          "ename": "KeyboardInterrupt",
          "evalue": "",
          "output_type": "error",
          "traceback": [
            "\u001b[0;31m---------------------------------------------------------------------------\u001b[0m",
            "\u001b[0;31mKeyboardInterrupt\u001b[0m                         Traceback (most recent call last)",
            "Cell \u001b[0;32mIn[108], line 23\u001b[0m\n\u001b[1;32m     20\u001b[0m tokens_X, segments_X, valid_lens_x, pred_positions_X, mlm_weights_X, mlm_Y, nsp_y \u001b[39m=\u001b[39m batch\n\u001b[1;32m     21\u001b[0m mlm_l, nsp_l, l \u001b[39m=\u001b[39m _get_batch_loss_bert(net, loss, vocab_size, tokens_X, segments_X, valid_lens_x,\n\u001b[1;32m     22\u001b[0m                      pred_positions_X, mlm_weights_X, mlm_Y, nsp_y)\n\u001b[0;32m---> 23\u001b[0m l\u001b[39m.\u001b[39;49mbackward()\n\u001b[1;32m     24\u001b[0m optimizer\u001b[39m.\u001b[39mstep()\n\u001b[1;32m     25\u001b[0m nsp_losses\u001b[39m.\u001b[39mappend(nsp_l\u001b[39m.\u001b[39mitem())\n",
            "File \u001b[0;32m~/PycharmProjects/Transformers/.venv/lib/python3.9/site-packages/torch/_tensor.py:487\u001b[0m, in \u001b[0;36mTensor.backward\u001b[0;34m(self, gradient, retain_graph, create_graph, inputs)\u001b[0m\n\u001b[1;32m    477\u001b[0m \u001b[39mif\u001b[39;00m has_torch_function_unary(\u001b[39mself\u001b[39m):\n\u001b[1;32m    478\u001b[0m     \u001b[39mreturn\u001b[39;00m handle_torch_function(\n\u001b[1;32m    479\u001b[0m         Tensor\u001b[39m.\u001b[39mbackward,\n\u001b[1;32m    480\u001b[0m         (\u001b[39mself\u001b[39m,),\n\u001b[0;32m   (...)\u001b[0m\n\u001b[1;32m    485\u001b[0m         inputs\u001b[39m=\u001b[39minputs,\n\u001b[1;32m    486\u001b[0m     )\n\u001b[0;32m--> 487\u001b[0m torch\u001b[39m.\u001b[39;49mautograd\u001b[39m.\u001b[39;49mbackward(\n\u001b[1;32m    488\u001b[0m     \u001b[39mself\u001b[39;49m, gradient, retain_graph, create_graph, inputs\u001b[39m=\u001b[39;49minputs\n\u001b[1;32m    489\u001b[0m )\n",
            "File \u001b[0;32m~/PycharmProjects/Transformers/.venv/lib/python3.9/site-packages/torch/autograd/__init__.py:200\u001b[0m, in \u001b[0;36mbackward\u001b[0;34m(tensors, grad_tensors, retain_graph, create_graph, grad_variables, inputs)\u001b[0m\n\u001b[1;32m    195\u001b[0m     retain_graph \u001b[39m=\u001b[39m create_graph\n\u001b[1;32m    197\u001b[0m \u001b[39m# The reason we repeat same the comment below is that\u001b[39;00m\n\u001b[1;32m    198\u001b[0m \u001b[39m# some Python versions print out the first line of a multi-line function\u001b[39;00m\n\u001b[1;32m    199\u001b[0m \u001b[39m# calls in the traceback and some print out the last line\u001b[39;00m\n\u001b[0;32m--> 200\u001b[0m Variable\u001b[39m.\u001b[39;49m_execution_engine\u001b[39m.\u001b[39;49mrun_backward(  \u001b[39m# Calls into the C++ engine to run the backward pass\u001b[39;49;00m\n\u001b[1;32m    201\u001b[0m     tensors, grad_tensors_, retain_graph, create_graph, inputs,\n\u001b[1;32m    202\u001b[0m     allow_unreachable\u001b[39m=\u001b[39;49m\u001b[39mTrue\u001b[39;49;00m, accumulate_grad\u001b[39m=\u001b[39;49m\u001b[39mTrue\u001b[39;49;00m)\n",
            "\u001b[0;31mKeyboardInterrupt\u001b[0m: "
          ]
        }
      ],
      "source": [
        "net.to(device)\n",
        "\n",
        "optimizer = torch.optim.Adam(net.parameters(), lr=0.01)\n",
        "\n",
        "num_epochs = 5\n",
        "\n",
        "\n",
        "\n",
        "nsp_losses = []\n",
        "mlm_losses = []\n",
        "\n",
        "for epoch_i in range(num_epochs):\n",
        "    for i, batch in enumerate(train_dataloader):\n",
        "\n",
        "        optimizer.zero_grad()\n",
        "\n",
        "\n",
        "        # Add batch to GPU\n",
        "        batch = tuple(t.to(device) for t in batch)\n",
        "        tokens_X, segments_X, valid_lens_x, pred_positions_X, mlm_weights_X, mlm_Y, nsp_y = batch\n",
        "        mlm_l, nsp_l, l = _get_batch_loss_bert(net, loss, vocab_size, tokens_X, segments_X, valid_lens_x,\n",
        "                             pred_positions_X, mlm_weights_X, mlm_Y, nsp_y)\n",
        "        l.backward()\n",
        "        optimizer.step()\n",
        "        nsp_losses.append(nsp_l.item())\n",
        "        mlm_losses.append(mlm_l.item())\n",
        "\n",
        "        if i%50 == 0:\n",
        "            print(l.item())\n",
        "\n"
      ]
    },
    {
      "cell_type": "code",
      "execution_count": null,
      "metadata": {
        "colab": {
          "base_uri": "https://localhost:8080/",
          "height": 472
        },
        "id": "yKa1FSIelxIP",
        "outputId": "844444c9-a156-4907-8ed3-27f3225fdbef"
      },
      "outputs": [
        {
          "data": {
            "image/png": "[encoded data removed]",
            "text/plain": [
              "<Figure size 640x480 with 1 Axes>"
            ]
          },
          "metadata": {},
          "output_type": "display_data"
        }
      ],
      "source": [
        "import matplotlib.pyplot as plt\n",
        "\n",
        "# Assuming you have a list named \"losses\" with the loss values\n",
        "iterations = range(len(nsp_losses))\n",
        "\n",
        "plt.plot(iterations, nsp_losses, label=\"NSP loss\")\n",
        "plt.plot(iterations, mlm_losses, label=\"MLM loss\")\n",
        "plt.xlabel('Iterations')\n",
        "plt.ylabel('Loss')\n",
        "plt.title('Loss vs. Iterations')\n",
        "plt.grid(True)\n",
        "plt.legend()\n",
        "plt.show()"
      ]
    },
    {
      "cell_type": "code",
      "execution_count": null,
      "metadata": {
        "id": "HSdO0-hxsREr"
      },
      "outputs": [],
      "source": []
    }
  ],
  "metadata": {
    "accelerator": "GPU",
    "colab": {
      "authorship_tag": "ABX9TyN10kqHD4EY5Wr1ivB/XyVE",
      "gpuType": "T4",
      "include_colab_link": true,
      "provenance": []
    },
    "kernelspec": {
      "display_name": "Python 3.9.15 ('.venv': venv)",
      "language": "python",
      "name": "python3"
    },
    "language_info": {
      "codemirror_mode": {
        "name": "ipython",
        "version": 3
      },
      "file_extension": ".py",
      "mimetype": "text/x-python",
      "name": "python",
      "nbconvert_exporter": "python",
      "pygments_lexer": "ipython3",
      "version": "3.9.15"
    },
    "vscode": {
      "interpreter": {
        "hash": "b8fa2b73e60336214443cc26cea5cefa0e9058a4b49159a6ca236d2fdbcc6c63"
      }
    },
    "widgets": {
      "application/vnd.jupyter.widget-state+json": {
        "02855500200c4d389bcc716b0eddf350": {
          "model_module": "@jupyter-widgets/controls",
          "model_module_version": "1.5.0",
          "model_name": "HTMLModel",
          "state": {
            "_dom_classes": [],
            "_model_module": "@jupyter-widgets/controls",
            "_model_module_version": "1.5.0",
            "_model_name": "HTMLModel",
            "_view_count": null,
            "_view_module": "@jupyter-widgets/controls",
            "_view_module_version": "1.5.0",
            "_view_name": "HTMLView",
            "description": "",
            "description_tooltip": null,
            "layout": "IPY_MODEL_6c0d3d2610204002afcaab7643fd2334",
            "placeholder": "​",
            "style": "IPY_MODEL_3f9b76b56be94c03a8a286b24eeb65ce",
            "value": " 466k/466k [00:00&lt;00:00, 6.05MB/s]"
          }
        },
        "0b2c713f833245d196e74752257b496c": {
          "model_module": "@jupyter-widgets/controls",
          "model_module_version": "1.5.0",
          "model_name": "FloatProgressModel",
          "state": {
            "_dom_classes": [],
            "_model_module": "@jupyter-widgets/controls",
            "_model_module_version": "1.5.0",
            "_model_name": "FloatProgressModel",
            "_view_count": null,
            "_view_module": "@jupyter-widgets/controls",
            "_view_module_version": "1.5.0",
            "_view_name": "ProgressView",
            "bar_style": "success",
            "description": "",
            "description_tooltip": null,
            "layout": "IPY_MODEL_b1a995ca4796424280a1937bbdf47d23",
            "max": 570,
            "min": 0,
            "orientation": "horizontal",
            "style": "IPY_MODEL_619d232705834f50b11320643130f496",
            "value": 570
          }
        },
        "0fdcf1551b5146f4b19fc2203f97df29": {
          "model_module": "@jupyter-widgets/controls",
          "model_module_version": "1.5.0",
          "model_name": "DescriptionStyleModel",
          "state": {
            "_model_module": "@jupyter-widgets/controls",
            "_model_module_version": "1.5.0",
            "_model_name": "DescriptionStyleModel",
            "_view_count": null,
            "_view_module": "@jupyter-widgets/base",
            "_view_module_version": "1.2.0",
            "_view_name": "StyleView",
            "description_width": ""
          }
        },
        "0fe4551038574ee888753cd8d3a37aa5": {
          "model_module": "@jupyter-widgets/base",
          "model_module_version": "1.2.0",
          "model_name": "LayoutModel",
          "state": {
            "_model_module": "@jupyter-widgets/base",
            "_model_module_version": "1.2.0",
            "_model_name": "LayoutModel",
            "_view_count": null,
            "_view_module": "@jupyter-widgets/base",
            "_view_module_version": "1.2.0",
            "_view_name": "LayoutView",
            "align_content": null,
            "align_items": null,
            "align_self": null,
            "border": null,
            "bottom": null,
            "display": null,
            "flex": null,
            "flex_flow": null,
            "grid_area": null,
            "grid_auto_columns": null,
            "grid_auto_flow": null,
            "grid_auto_rows": null,
            "grid_column": null,
            "grid_gap": null,
            "grid_row": null,
            "grid_template_areas": null,
            "grid_template_columns": null,
            "grid_template_rows": null,
            "height": null,
            "justify_content": null,
            "justify_items": null,
            "left": null,
            "margin": null,
            "max_height": null,
            "max_width": null,
            "min_height": null,
            "min_width": null,
            "object_fit": null,
            "object_position": null,
            "order": null,
            "overflow": null,
            "overflow_x": null,
            "overflow_y": null,
            "padding": null,
            "right": null,
            "top": null,
            "visibility": null,
            "width": null
          }
        },
        "14760a7fdeac4ecb8885159207ec965d": {
          "model_module": "@jupyter-widgets/base",
          "model_module_version": "1.2.0",
          "model_name": "LayoutModel",
          "state": {
            "_model_module": "@jupyter-widgets/base",
            "_model_module_version": "1.2.0",
            "_model_name": "LayoutModel",
            "_view_count": null,
            "_view_module": "@jupyter-widgets/base",
            "_view_module_version": "1.2.0",
            "_view_name": "LayoutView",
            "align_content": null,
            "align_items": null,
            "align_self": null,
            "border": null,
            "bottom": null,
            "display": null,
            "flex": null,
            "flex_flow": null,
            "grid_area": null,
            "grid_auto_columns": null,
            "grid_auto_flow": null,
            "grid_auto_rows": null,
            "grid_column": null,
            "grid_gap": null,
            "grid_row": null,
            "grid_template_areas": null,
            "grid_template_columns": null,
            "grid_template_rows": null,
            "height": null,
            "justify_content": null,
            "justify_items": null,
            "left": null,
            "margin": null,
            "max_height": null,
            "max_width": null,
            "min_height": null,
            "min_width": null,
            "object_fit": null,
            "object_position": null,
            "order": null,
            "overflow": null,
            "overflow_x": null,
            "overflow_y": null,
            "padding": null,
            "right": null,
            "top": null,
            "visibility": null,
            "width": null
          }
        },
        "1669807375e340b2854ab7261fae1e8d": {
          "model_module": "@jupyter-widgets/base",
          "model_module_version": "1.2.0",
          "model_name": "LayoutModel",
          "state": {
            "_model_module": "@jupyter-widgets/base",
            "_model_module_version": "1.2.0",
            "_model_name": "LayoutModel",
            "_view_count": null,
            "_view_module": "@jupyter-widgets/base",
            "_view_module_version": "1.2.0",
            "_view_name": "LayoutView",
            "align_content": null,
            "align_items": null,
            "align_self": null,
            "border": null,
            "bottom": null,
            "display": null,
            "flex": null,
            "flex_flow": null,
            "grid_area": null,
            "grid_auto_columns": null,
            "grid_auto_flow": null,
            "grid_auto_rows": null,
            "grid_column": null,
            "grid_gap": null,
            "grid_row": null,
            "grid_template_areas": null,
            "grid_template_columns": null,
            "grid_template_rows": null,
            "height": null,
            "justify_content": null,
            "justify_items": null,
            "left": null,
            "margin": null,
            "max_height": null,
            "max_width": null,
            "min_height": null,
            "min_width": null,
            "object_fit": null,
            "object_position": null,
            "order": null,
            "overflow": null,
            "overflow_x": null,
            "overflow_y": null,
            "padding": null,
            "right": null,
            "top": null,
            "visibility": null,
            "width": null
          }
        },
        "1d7a2e86167c45d794510897ba83ce95": {
          "model_module": "@jupyter-widgets/base",
          "model_module_version": "1.2.0",
          "model_name": "LayoutModel",
          "state": {
            "_model_module": "@jupyter-widgets/base",
            "_model_module_version": "1.2.0",
            "_model_name": "LayoutModel",
            "_view_count": null,
            "_view_module": "@jupyter-widgets/base",
            "_view_module_version": "1.2.0",
            "_view_name": "LayoutView",
            "align_content": null,
            "align_items": null,
            "align_self": null,
            "border": null,
            "bottom": null,
            "display": null,
            "flex": null,
            "flex_flow": null,
            "grid_area": null,
            "grid_auto_columns": null,
            "grid_auto_flow": null,
            "grid_auto_rows": null,
            "grid_column": null,
            "grid_gap": null,
            "grid_row": null,
            "grid_template_areas": null,
            "grid_template_columns": null,
            "grid_template_rows": null,
            "height": null,
            "justify_content": null,
            "justify_items": null,
            "left": null,
            "margin": null,
            "max_height": null,
            "max_width": null,
            "min_height": null,
            "min_width": null,
            "object_fit": null,
            "object_position": null,
            "order": null,
            "overflow": null,
            "overflow_x": null,
            "overflow_y": null,
            "padding": null,
            "right": null,
            "top": null,
            "visibility": null,
            "width": null
          }
        },
        "25df5562090047f4ba7a9a1e6e12f613": {
          "model_module": "@jupyter-widgets/controls",
          "model_module_version": "1.5.0",
          "model_name": "FloatProgressModel",
          "state": {
            "_dom_classes": [],
            "_model_module": "@jupyter-widgets/controls",
            "_model_module_version": "1.5.0",
            "_model_name": "FloatProgressModel",
            "_view_count": null,
            "_view_module": "@jupyter-widgets/controls",
            "_view_module_version": "1.5.0",
            "_view_name": "ProgressView",
            "bar_style": "success",
            "description": "",
            "description_tooltip": null,
            "layout": "IPY_MODEL_1d7a2e86167c45d794510897ba83ce95",
            "max": 466062,
            "min": 0,
            "orientation": "horizontal",
            "style": "IPY_MODEL_272100da3db140db9127186520f6492c",
            "value": 466062
          }
        },
        "25f5aeddfac44866969389bbfc2d38bd": {
          "model_module": "@jupyter-widgets/controls",
          "model_module_version": "1.5.0",
          "model_name": "FloatProgressModel",
          "state": {
            "_dom_classes": [],
            "_model_module": "@jupyter-widgets/controls",
            "_model_module_version": "1.5.0",
            "_model_name": "FloatProgressModel",
            "_view_count": null,
            "_view_module": "@jupyter-widgets/controls",
            "_view_module_version": "1.5.0",
            "_view_name": "ProgressView",
            "bar_style": "success",
            "description": "",
            "description_tooltip": null,
            "layout": "IPY_MODEL_14760a7fdeac4ecb8885159207ec965d",
            "max": 28,
            "min": 0,
            "orientation": "horizontal",
            "style": "IPY_MODEL_bab8792ceaef488ca4a6eae262e224a8",
            "value": 28
          }
        },
        "272100da3db140db9127186520f6492c": {
          "model_module": "@jupyter-widgets/controls",
          "model_module_version": "1.5.0",
          "model_name": "ProgressStyleModel",
          "state": {
            "_model_module": "@jupyter-widgets/controls",
            "_model_module_version": "1.5.0",
            "_model_name": "ProgressStyleModel",
            "_view_count": null,
            "_view_module": "@jupyter-widgets/base",
            "_view_module_version": "1.2.0",
            "_view_name": "StyleView",
            "bar_color": null,
            "description_width": ""
          }
        },
        "2bb0e82f11944a47918e379ac030fbe8": {
          "model_module": "@jupyter-widgets/controls",
          "model_module_version": "1.5.0",
          "model_name": "HTMLModel",
          "state": {
            "_dom_classes": [],
            "_model_module": "@jupyter-widgets/controls",
            "_model_module_version": "1.5.0",
            "_model_name": "HTMLModel",
            "_view_count": null,
            "_view_module": "@jupyter-widgets/controls",
            "_view_module_version": "1.5.0",
            "_view_name": "HTMLView",
            "description": "",
            "description_tooltip": null,
            "layout": "IPY_MODEL_7942b0d0b2d542a9aedf196a36fa9a5d",
            "placeholder": "​",
            "style": "IPY_MODEL_fb3ce1334e6f459d8825855326da7b60",
            "value": " 28.0/28.0 [00:00&lt;00:00, 1.82kB/s]"
          }
        },
        "2bf7bddf407042a8adff7e33afecd390": {
          "model_module": "@jupyter-widgets/controls",
          "model_module_version": "1.5.0",
          "model_name": "HBoxModel",
          "state": {
            "_dom_classes": [],
            "_model_module": "@jupyter-widgets/controls",
            "_model_module_version": "1.5.0",
            "_model_name": "HBoxModel",
            "_view_count": null,
            "_view_module": "@jupyter-widgets/controls",
            "_view_module_version": "1.5.0",
            "_view_name": "HBoxView",
            "box_style": "",
            "children": [
              "IPY_MODEL_90e5b106c5044df587523c698ddb367b",
              "IPY_MODEL_25f5aeddfac44866969389bbfc2d38bd",
              "IPY_MODEL_2bb0e82f11944a47918e379ac030fbe8"
            ],
            "layout": "IPY_MODEL_c2a46f08882941d48f7a7b26cd98ea9d"
          }
        },
        "3037b76e9f5544d69420f214e09e5a6d": {
          "model_module": "@jupyter-widgets/controls",
          "model_module_version": "1.5.0",
          "model_name": "HTMLModel",
          "state": {
            "_dom_classes": [],
            "_model_module": "@jupyter-widgets/controls",
            "_model_module_version": "1.5.0",
            "_model_name": "HTMLModel",
            "_view_count": null,
            "_view_module": "@jupyter-widgets/controls",
            "_view_module_version": "1.5.0",
            "_view_name": "HTMLView",
            "description": "",
            "description_tooltip": null,
            "layout": "IPY_MODEL_822bc904adff44e8b1fc6d5a1e6a5c5f",
            "placeholder": "​",
            "style": "IPY_MODEL_0fdcf1551b5146f4b19fc2203f97df29",
            "value": "Downloading (…)lve/main/config.json: 100%"
          }
        },
        "36c935b6b1c2424a818a70f4b5f4a893": {
          "model_module": "@jupyter-widgets/base",
          "model_module_version": "1.2.0",
          "model_name": "LayoutModel",
          "state": {
            "_model_module": "@jupyter-widgets/base",
            "_model_module_version": "1.2.0",
            "_model_name": "LayoutModel",
            "_view_count": null,
            "_view_module": "@jupyter-widgets/base",
            "_view_module_version": "1.2.0",
            "_view_name": "LayoutView",
            "align_content": null,
            "align_items": null,
            "align_self": null,
            "border": null,
            "bottom": null,
            "display": null,
            "flex": null,
            "flex_flow": null,
            "grid_area": null,
            "grid_auto_columns": null,
            "grid_auto_flow": null,
            "grid_auto_rows": null,
            "grid_column": null,
            "grid_gap": null,
            "grid_row": null,
            "grid_template_areas": null,
            "grid_template_columns": null,
            "grid_template_rows": null,
            "height": null,
            "justify_content": null,
            "justify_items": null,
            "left": null,
            "margin": null,
            "max_height": null,
            "max_width": null,
            "min_height": null,
            "min_width": null,
            "object_fit": null,
            "object_position": null,
            "order": null,
            "overflow": null,
            "overflow_x": null,
            "overflow_y": null,
            "padding": null,
            "right": null,
            "top": null,
            "visibility": null,
            "width": null
          }
        },
        "3f4f5516a29a401599d1ba4101c9b1f5": {
          "model_module": "@jupyter-widgets/controls",
          "model_module_version": "1.5.0",
          "model_name": "HBoxModel",
          "state": {
            "_dom_classes": [],
            "_model_module": "@jupyter-widgets/controls",
            "_model_module_version": "1.5.0",
            "_model_name": "HBoxModel",
            "_view_count": null,
            "_view_module": "@jupyter-widgets/controls",
            "_view_module_version": "1.5.0",
            "_view_name": "HBoxView",
            "box_style": "",
            "children": [
              "IPY_MODEL_473f58c46f294c8e80ff0523a344600c",
              "IPY_MODEL_25df5562090047f4ba7a9a1e6e12f613",
              "IPY_MODEL_02855500200c4d389bcc716b0eddf350"
            ],
            "layout": "IPY_MODEL_50a66131298946fe8ad59f02e08f69d6"
          }
        },
        "3f9b76b56be94c03a8a286b24eeb65ce": {
          "model_module": "@jupyter-widgets/controls",
          "model_module_version": "1.5.0",
          "model_name": "DescriptionStyleModel",
          "state": {
            "_model_module": "@jupyter-widgets/controls",
            "_model_module_version": "1.5.0",
            "_model_name": "DescriptionStyleModel",
            "_view_count": null,
            "_view_module": "@jupyter-widgets/base",
            "_view_module_version": "1.2.0",
            "_view_name": "StyleView",
            "description_width": ""
          }
        },
        "4355b10833a04103b025bcc691c743ca": {
          "model_module": "@jupyter-widgets/controls",
          "model_module_version": "1.5.0",
          "model_name": "DescriptionStyleModel",
          "state": {
            "_model_module": "@jupyter-widgets/controls",
            "_model_module_version": "1.5.0",
            "_model_name": "DescriptionStyleModel",
            "_view_count": null,
            "_view_module": "@jupyter-widgets/base",
            "_view_module_version": "1.2.0",
            "_view_name": "StyleView",
            "description_width": ""
          }
        },
        "473f58c46f294c8e80ff0523a344600c": {
          "model_module": "@jupyter-widgets/controls",
          "model_module_version": "1.5.0",
          "model_name": "HTMLModel",
          "state": {
            "_dom_classes": [],
            "_model_module": "@jupyter-widgets/controls",
            "_model_module_version": "1.5.0",
            "_model_name": "HTMLModel",
            "_view_count": null,
            "_view_module": "@jupyter-widgets/controls",
            "_view_module_version": "1.5.0",
            "_view_name": "HTMLView",
            "description": "",
            "description_tooltip": null,
            "layout": "IPY_MODEL_4dcecd871b9441da861053bfa5d3a556",
            "placeholder": "​",
            "style": "IPY_MODEL_81ca145c6e0a41ab99b065aa85c7ad87",
            "value": "Downloading (…)/main/tokenizer.json: 100%"
          }
        },
        "4dcecd871b9441da861053bfa5d3a556": {
          "model_module": "@jupyter-widgets/base",
          "model_module_version": "1.2.0",
          "model_name": "LayoutModel",
          "state": {
            "_model_module": "@jupyter-widgets/base",
            "_model_module_version": "1.2.0",
            "_model_name": "LayoutModel",
            "_view_count": null,
            "_view_module": "@jupyter-widgets/base",
            "_view_module_version": "1.2.0",
            "_view_name": "LayoutView",
            "align_content": null,
            "align_items": null,
            "align_self": null,
            "border": null,
            "bottom": null,
            "display": null,
            "flex": null,
            "flex_flow": null,
            "grid_area": null,
            "grid_auto_columns": null,
            "grid_auto_flow": null,
            "grid_auto_rows": null,
            "grid_column": null,
            "grid_gap": null,
            "grid_row": null,
            "grid_template_areas": null,
            "grid_template_columns": null,
            "grid_template_rows": null,
            "height": null,
            "justify_content": null,
            "justify_items": null,
            "left": null,
            "margin": null,
            "max_height": null,
            "max_width": null,
            "min_height": null,
            "min_width": null,
            "object_fit": null,
            "object_position": null,
            "order": null,
            "overflow": null,
            "overflow_x": null,
            "overflow_y": null,
            "padding": null,
            "right": null,
            "top": null,
            "visibility": null,
            "width": null
          }
        },
        "50a66131298946fe8ad59f02e08f69d6": {
          "model_module": "@jupyter-widgets/base",
          "model_module_version": "1.2.0",
          "model_name": "LayoutModel",
          "state": {
            "_model_module": "@jupyter-widgets/base",
            "_model_module_version": "1.2.0",
            "_model_name": "LayoutModel",
            "_view_count": null,
            "_view_module": "@jupyter-widgets/base",
            "_view_module_version": "1.2.0",
            "_view_name": "LayoutView",
            "align_content": null,
            "align_items": null,
            "align_self": null,
            "border": null,
            "bottom": null,
            "display": null,
            "flex": null,
            "flex_flow": null,
            "grid_area": null,
            "grid_auto_columns": null,
            "grid_auto_flow": null,
            "grid_auto_rows": null,
            "grid_column": null,
            "grid_gap": null,
            "grid_row": null,
            "grid_template_areas": null,
            "grid_template_columns": null,
            "grid_template_rows": null,
            "height": null,
            "justify_content": null,
            "justify_items": null,
            "left": null,
            "margin": null,
            "max_height": null,
            "max_width": null,
            "min_height": null,
            "min_width": null,
            "object_fit": null,
            "object_position": null,
            "order": null,
            "overflow": null,
            "overflow_x": null,
            "overflow_y": null,
            "padding": null,
            "right": null,
            "top": null,
            "visibility": null,
            "width": null
          }
        },
        "521184ee0c444736bbbe3bbddc16113f": {
          "model_module": "@jupyter-widgets/controls",
          "model_module_version": "1.5.0",
          "model_name": "FloatProgressModel",
          "state": {
            "_dom_classes": [],
            "_model_module": "@jupyter-widgets/controls",
            "_model_module_version": "1.5.0",
            "_model_name": "FloatProgressModel",
            "_view_count": null,
            "_view_module": "@jupyter-widgets/controls",
            "_view_module_version": "1.5.0",
            "_view_name": "ProgressView",
            "bar_style": "success",
            "description": "",
            "description_tooltip": null,
            "layout": "IPY_MODEL_0fe4551038574ee888753cd8d3a37aa5",
            "max": 231508,
            "min": 0,
            "orientation": "horizontal",
            "style": "IPY_MODEL_fd929467fa504561a4a4c8750199634e",
            "value": 231508
          }
        },
        "619d232705834f50b11320643130f496": {
          "model_module": "@jupyter-widgets/controls",
          "model_module_version": "1.5.0",
          "model_name": "ProgressStyleModel",
          "state": {
            "_model_module": "@jupyter-widgets/controls",
            "_model_module_version": "1.5.0",
            "_model_name": "ProgressStyleModel",
            "_view_count": null,
            "_view_module": "@jupyter-widgets/base",
            "_view_module_version": "1.2.0",
            "_view_name": "StyleView",
            "bar_color": null,
            "description_width": ""
          }
        },
        "6a1a77bc8ce440f0a1b0ce88c90cbbb8": {
          "model_module": "@jupyter-widgets/controls",
          "model_module_version": "1.5.0",
          "model_name": "HBoxModel",
          "state": {
            "_dom_classes": [],
            "_model_module": "@jupyter-widgets/controls",
            "_model_module_version": "1.5.0",
            "_model_name": "HBoxModel",
            "_view_count": null,
            "_view_module": "@jupyter-widgets/controls",
            "_view_module_version": "1.5.0",
            "_view_name": "HBoxView",
            "box_style": "",
            "children": [
              "IPY_MODEL_3037b76e9f5544d69420f214e09e5a6d",
              "IPY_MODEL_0b2c713f833245d196e74752257b496c",
              "IPY_MODEL_f45c15b5310b49a0997858074a6a9059"
            ],
            "layout": "IPY_MODEL_b2897f556ebc44cb8732a5fdece28807"
          }
        },
        "6c0d3d2610204002afcaab7643fd2334": {
          "model_module": "@jupyter-widgets/base",
          "model_module_version": "1.2.0",
          "model_name": "LayoutModel",
          "state": {
            "_model_module": "@jupyter-widgets/base",
            "_model_module_version": "1.2.0",
            "_model_name": "LayoutModel",
            "_view_count": null,
            "_view_module": "@jupyter-widgets/base",
            "_view_module_version": "1.2.0",
            "_view_name": "LayoutView",
            "align_content": null,
            "align_items": null,
            "align_self": null,
            "border": null,
            "bottom": null,
            "display": null,
            "flex": null,
            "flex_flow": null,
            "grid_area": null,
            "grid_auto_columns": null,
            "grid_auto_flow": null,
            "grid_auto_rows": null,
            "grid_column": null,
            "grid_gap": null,
            "grid_row": null,
            "grid_template_areas": null,
            "grid_template_columns": null,
            "grid_template_rows": null,
            "height": null,
            "justify_content": null,
            "justify_items": null,
            "left": null,
            "margin": null,
            "max_height": null,
            "max_width": null,
            "min_height": null,
            "min_width": null,
            "object_fit": null,
            "object_position": null,
            "order": null,
            "overflow": null,
            "overflow_x": null,
            "overflow_y": null,
            "padding": null,
            "right": null,
            "top": null,
            "visibility": null,
            "width": null
          }
        },
        "7942b0d0b2d542a9aedf196a36fa9a5d": {
          "model_module": "@jupyter-widgets/base",
          "model_module_version": "1.2.0",
          "model_name": "LayoutModel",
          "state": {
            "_model_module": "@jupyter-widgets/base",
            "_model_module_version": "1.2.0",
            "_model_name": "LayoutModel",
            "_view_count": null,
            "_view_module": "@jupyter-widgets/base",
            "_view_module_version": "1.2.0",
            "_view_name": "LayoutView",
            "align_content": null,
            "align_items": null,
            "align_self": null,
            "border": null,
            "bottom": null,
            "display": null,
            "flex": null,
            "flex_flow": null,
            "grid_area": null,
            "grid_auto_columns": null,
            "grid_auto_flow": null,
            "grid_auto_rows": null,
            "grid_column": null,
            "grid_gap": null,
            "grid_row": null,
            "grid_template_areas": null,
            "grid_template_columns": null,
            "grid_template_rows": null,
            "height": null,
            "justify_content": null,
            "justify_items": null,
            "left": null,
            "margin": null,
            "max_height": null,
            "max_width": null,
            "min_height": null,
            "min_width": null,
            "object_fit": null,
            "object_position": null,
            "order": null,
            "overflow": null,
            "overflow_x": null,
            "overflow_y": null,
            "padding": null,
            "right": null,
            "top": null,
            "visibility": null,
            "width": null
          }
        },
        "810f5f9d704c4908aeb81da6a3b0b677": {
          "model_module": "@jupyter-widgets/base",
          "model_module_version": "1.2.0",
          "model_name": "LayoutModel",
          "state": {
            "_model_module": "@jupyter-widgets/base",
            "_model_module_version": "1.2.0",
            "_model_name": "LayoutModel",
            "_view_count": null,
            "_view_module": "@jupyter-widgets/base",
            "_view_module_version": "1.2.0",
            "_view_name": "LayoutView",
            "align_content": null,
            "align_items": null,
            "align_self": null,
            "border": null,
            "bottom": null,
            "display": null,
            "flex": null,
            "flex_flow": null,
            "grid_area": null,
            "grid_auto_columns": null,
            "grid_auto_flow": null,
            "grid_auto_rows": null,
            "grid_column": null,
            "grid_gap": null,
            "grid_row": null,
            "grid_template_areas": null,
            "grid_template_columns": null,
            "grid_template_rows": null,
            "height": null,
            "justify_content": null,
            "justify_items": null,
            "left": null,
            "margin": null,
            "max_height": null,
            "max_width": null,
            "min_height": null,
            "min_width": null,
            "object_fit": null,
            "object_position": null,
            "order": null,
            "overflow": null,
            "overflow_x": null,
            "overflow_y": null,
            "padding": null,
            "right": null,
            "top": null,
            "visibility": null,
            "width": null
          }
        },
        "81ca145c6e0a41ab99b065aa85c7ad87": {
          "model_module": "@jupyter-widgets/controls",
          "model_module_version": "1.5.0",
          "model_name": "DescriptionStyleModel",
          "state": {
            "_model_module": "@jupyter-widgets/controls",
            "_model_module_version": "1.5.0",
            "_model_name": "DescriptionStyleModel",
            "_view_count": null,
            "_view_module": "@jupyter-widgets/base",
            "_view_module_version": "1.2.0",
            "_view_name": "StyleView",
            "description_width": ""
          }
        },
        "822bc904adff44e8b1fc6d5a1e6a5c5f": {
          "model_module": "@jupyter-widgets/base",
          "model_module_version": "1.2.0",
          "model_name": "LayoutModel",
          "state": {
            "_model_module": "@jupyter-widgets/base",
            "_model_module_version": "1.2.0",
            "_model_name": "LayoutModel",
            "_view_count": null,
            "_view_module": "@jupyter-widgets/base",
            "_view_module_version": "1.2.0",
            "_view_name": "LayoutView",
            "align_content": null,
            "align_items": null,
            "align_self": null,
            "border": null,
            "bottom": null,
            "display": null,
            "flex": null,
            "flex_flow": null,
            "grid_area": null,
            "grid_auto_columns": null,
            "grid_auto_flow": null,
            "grid_auto_rows": null,
            "grid_column": null,
            "grid_gap": null,
            "grid_row": null,
            "grid_template_areas": null,
            "grid_template_columns": null,
            "grid_template_rows": null,
            "height": null,
            "justify_content": null,
            "justify_items": null,
            "left": null,
            "margin": null,
            "max_height": null,
            "max_width": null,
            "min_height": null,
            "min_width": null,
            "object_fit": null,
            "object_position": null,
            "order": null,
            "overflow": null,
            "overflow_x": null,
            "overflow_y": null,
            "padding": null,
            "right": null,
            "top": null,
            "visibility": null,
            "width": null
          }
        },
        "90e5b106c5044df587523c698ddb367b": {
          "model_module": "@jupyter-widgets/controls",
          "model_module_version": "1.5.0",
          "model_name": "HTMLModel",
          "state": {
            "_dom_classes": [],
            "_model_module": "@jupyter-widgets/controls",
            "_model_module_version": "1.5.0",
            "_model_name": "HTMLModel",
            "_view_count": null,
            "_view_module": "@jupyter-widgets/controls",
            "_view_module_version": "1.5.0",
            "_view_name": "HTMLView",
            "description": "",
            "description_tooltip": null,
            "layout": "IPY_MODEL_1669807375e340b2854ab7261fae1e8d",
            "placeholder": "​",
            "style": "IPY_MODEL_4355b10833a04103b025bcc691c743ca",
            "value": "Downloading (…)okenizer_config.json: 100%"
          }
        },
        "9e19db1b97fb40c19e5fef76d8d3e9f7": {
          "model_module": "@jupyter-widgets/controls",
          "model_module_version": "1.5.0",
          "model_name": "HBoxModel",
          "state": {
            "_dom_classes": [],
            "_model_module": "@jupyter-widgets/controls",
            "_model_module_version": "1.5.0",
            "_model_name": "HBoxModel",
            "_view_count": null,
            "_view_module": "@jupyter-widgets/controls",
            "_view_module_version": "1.5.0",
            "_view_name": "HBoxView",
            "box_style": "",
            "children": [
              "IPY_MODEL_ff32400f418446ed821a51a82d59f359",
              "IPY_MODEL_521184ee0c444736bbbe3bbddc16113f",
              "IPY_MODEL_d2552f7852ee45ff82b70d02fe992112"
            ],
            "layout": "IPY_MODEL_810f5f9d704c4908aeb81da6a3b0b677"
          }
        },
        "9f7d1c9e59f14c26a337764c382dcbc2": {
          "model_module": "@jupyter-widgets/controls",
          "model_module_version": "1.5.0",
          "model_name": "DescriptionStyleModel",
          "state": {
            "_model_module": "@jupyter-widgets/controls",
            "_model_module_version": "1.5.0",
            "_model_name": "DescriptionStyleModel",
            "_view_count": null,
            "_view_module": "@jupyter-widgets/base",
            "_view_module_version": "1.2.0",
            "_view_name": "StyleView",
            "description_width": ""
          }
        },
        "b1a995ca4796424280a1937bbdf47d23": {
          "model_module": "@jupyter-widgets/base",
          "model_module_version": "1.2.0",
          "model_name": "LayoutModel",
          "state": {
            "_model_module": "@jupyter-widgets/base",
            "_model_module_version": "1.2.0",
            "_model_name": "LayoutModel",
            "_view_count": null,
            "_view_module": "@jupyter-widgets/base",
            "_view_module_version": "1.2.0",
            "_view_name": "LayoutView",
            "align_content": null,
            "align_items": null,
            "align_self": null,
            "border": null,
            "bottom": null,
            "display": null,
            "flex": null,
            "flex_flow": null,
            "grid_area": null,
            "grid_auto_columns": null,
            "grid_auto_flow": null,
            "grid_auto_rows": null,
            "grid_column": null,
            "grid_gap": null,
            "grid_row": null,
            "grid_template_areas": null,
            "grid_template_columns": null,
            "grid_template_rows": null,
            "height": null,
            "justify_content": null,
            "justify_items": null,
            "left": null,
            "margin": null,
            "max_height": null,
            "max_width": null,
            "min_height": null,
            "min_width": null,
            "object_fit": null,
            "object_position": null,
            "order": null,
            "overflow": null,
            "overflow_x": null,
            "overflow_y": null,
            "padding": null,
            "right": null,
            "top": null,
            "visibility": null,
            "width": null
          }
        },
        "b2897f556ebc44cb8732a5fdece28807": {
          "model_module": "@jupyter-widgets/base",
          "model_module_version": "1.2.0",
          "model_name": "LayoutModel",
          "state": {
            "_model_module": "@jupyter-widgets/base",
            "_model_module_version": "1.2.0",
            "_model_name": "LayoutModel",
            "_view_count": null,
            "_view_module": "@jupyter-widgets/base",
            "_view_module_version": "1.2.0",
            "_view_name": "LayoutView",
            "align_content": null,
            "align_items": null,
            "align_self": null,
            "border": null,
            "bottom": null,
            "display": null,
            "flex": null,
            "flex_flow": null,
            "grid_area": null,
            "grid_auto_columns": null,
            "grid_auto_flow": null,
            "grid_auto_rows": null,
            "grid_column": null,
            "grid_gap": null,
            "grid_row": null,
            "grid_template_areas": null,
            "grid_template_columns": null,
            "grid_template_rows": null,
            "height": null,
            "justify_content": null,
            "justify_items": null,
            "left": null,
            "margin": null,
            "max_height": null,
            "max_width": null,
            "min_height": null,
            "min_width": null,
            "object_fit": null,
            "object_position": null,
            "order": null,
            "overflow": null,
            "overflow_x": null,
            "overflow_y": null,
            "padding": null,
            "right": null,
            "top": null,
            "visibility": null,
            "width": null
          }
        },
        "b87d009f53264ed1bd73b016b34ebbc9": {
          "model_module": "@jupyter-widgets/base",
          "model_module_version": "1.2.0",
          "model_name": "LayoutModel",
          "state": {
            "_model_module": "@jupyter-widgets/base",
            "_model_module_version": "1.2.0",
            "_model_name": "LayoutModel",
            "_view_count": null,
            "_view_module": "@jupyter-widgets/base",
            "_view_module_version": "1.2.0",
            "_view_name": "LayoutView",
            "align_content": null,
            "align_items": null,
            "align_self": null,
            "border": null,
            "bottom": null,
            "display": null,
            "flex": null,
            "flex_flow": null,
            "grid_area": null,
            "grid_auto_columns": null,
            "grid_auto_flow": null,
            "grid_auto_rows": null,
            "grid_column": null,
            "grid_gap": null,
            "grid_row": null,
            "grid_template_areas": null,
            "grid_template_columns": null,
            "grid_template_rows": null,
            "height": null,
            "justify_content": null,
            "justify_items": null,
            "left": null,
            "margin": null,
            "max_height": null,
            "max_width": null,
            "min_height": null,
            "min_width": null,
            "object_fit": null,
            "object_position": null,
            "order": null,
            "overflow": null,
            "overflow_x": null,
            "overflow_y": null,
            "padding": null,
            "right": null,
            "top": null,
            "visibility": null,
            "width": null
          }
        },
        "bab8792ceaef488ca4a6eae262e224a8": {
          "model_module": "@jupyter-widgets/controls",
          "model_module_version": "1.5.0",
          "model_name": "ProgressStyleModel",
          "state": {
            "_model_module": "@jupyter-widgets/controls",
            "_model_module_version": "1.5.0",
            "_model_name": "ProgressStyleModel",
            "_view_count": null,
            "_view_module": "@jupyter-widgets/base",
            "_view_module_version": "1.2.0",
            "_view_name": "StyleView",
            "bar_color": null,
            "description_width": ""
          }
        },
        "c2a46f08882941d48f7a7b26cd98ea9d": {
          "model_module": "@jupyter-widgets/base",
          "model_module_version": "1.2.0",
          "model_name": "LayoutModel",
          "state": {
            "_model_module": "@jupyter-widgets/base",
            "_model_module_version": "1.2.0",
            "_model_name": "LayoutModel",
            "_view_count": null,
            "_view_module": "@jupyter-widgets/base",
            "_view_module_version": "1.2.0",
            "_view_name": "LayoutView",
            "align_content": null,
            "align_items": null,
            "align_self": null,
            "border": null,
            "bottom": null,
            "display": null,
            "flex": null,
            "flex_flow": null,
            "grid_area": null,
            "grid_auto_columns": null,
            "grid_auto_flow": null,
            "grid_auto_rows": null,
            "grid_column": null,
            "grid_gap": null,
            "grid_row": null,
            "grid_template_areas": null,
            "grid_template_columns": null,
            "grid_template_rows": null,
            "height": null,
            "justify_content": null,
            "justify_items": null,
            "left": null,
            "margin": null,
            "max_height": null,
            "max_width": null,
            "min_height": null,
            "min_width": null,
            "object_fit": null,
            "object_position": null,
            "order": null,
            "overflow": null,
            "overflow_x": null,
            "overflow_y": null,
            "padding": null,
            "right": null,
            "top": null,
            "visibility": null,
            "width": null
          }
        },
        "cd310d66bdfb4c76b735f7bb23e6f741": {
          "model_module": "@jupyter-widgets/base",
          "model_module_version": "1.2.0",
          "model_name": "LayoutModel",
          "state": {
            "_model_module": "@jupyter-widgets/base",
            "_model_module_version": "1.2.0",
            "_model_name": "LayoutModel",
            "_view_count": null,
            "_view_module": "@jupyter-widgets/base",
            "_view_module_version": "1.2.0",
            "_view_name": "LayoutView",
            "align_content": null,
            "align_items": null,
            "align_self": null,
            "border": null,
            "bottom": null,
            "display": null,
            "flex": null,
            "flex_flow": null,
            "grid_area": null,
            "grid_auto_columns": null,
            "grid_auto_flow": null,
            "grid_auto_rows": null,
            "grid_column": null,
            "grid_gap": null,
            "grid_row": null,
            "grid_template_areas": null,
            "grid_template_columns": null,
            "grid_template_rows": null,
            "height": null,
            "justify_content": null,
            "justify_items": null,
            "left": null,
            "margin": null,
            "max_height": null,
            "max_width": null,
            "min_height": null,
            "min_width": null,
            "object_fit": null,
            "object_position": null,
            "order": null,
            "overflow": null,
            "overflow_x": null,
            "overflow_y": null,
            "padding": null,
            "right": null,
            "top": null,
            "visibility": null,
            "width": null
          }
        },
        "d2552f7852ee45ff82b70d02fe992112": {
          "model_module": "@jupyter-widgets/controls",
          "model_module_version": "1.5.0",
          "model_name": "HTMLModel",
          "state": {
            "_dom_classes": [],
            "_model_module": "@jupyter-widgets/controls",
            "_model_module_version": "1.5.0",
            "_model_name": "HTMLModel",
            "_view_count": null,
            "_view_module": "@jupyter-widgets/controls",
            "_view_module_version": "1.5.0",
            "_view_name": "HTMLView",
            "description": "",
            "description_tooltip": null,
            "layout": "IPY_MODEL_b87d009f53264ed1bd73b016b34ebbc9",
            "placeholder": "​",
            "style": "IPY_MODEL_eb43050defb940bdbb102f5619b6cd59",
            "value": " 232k/232k [00:00&lt;00:00, 5.14MB/s]"
          }
        },
        "d95645bbd6de4071b448bf70ecf49223": {
          "model_module": "@jupyter-widgets/controls",
          "model_module_version": "1.5.0",
          "model_name": "DescriptionStyleModel",
          "state": {
            "_model_module": "@jupyter-widgets/controls",
            "_model_module_version": "1.5.0",
            "_model_name": "DescriptionStyleModel",
            "_view_count": null,
            "_view_module": "@jupyter-widgets/base",
            "_view_module_version": "1.2.0",
            "_view_name": "StyleView",
            "description_width": ""
          }
        },
        "eb43050defb940bdbb102f5619b6cd59": {
          "model_module": "@jupyter-widgets/controls",
          "model_module_version": "1.5.0",
          "model_name": "DescriptionStyleModel",
          "state": {
            "_model_module": "@jupyter-widgets/controls",
            "_model_module_version": "1.5.0",
            "_model_name": "DescriptionStyleModel",
            "_view_count": null,
            "_view_module": "@jupyter-widgets/base",
            "_view_module_version": "1.2.0",
            "_view_name": "StyleView",
            "description_width": ""
          }
        },
        "f45c15b5310b49a0997858074a6a9059": {
          "model_module": "@jupyter-widgets/controls",
          "model_module_version": "1.5.0",
          "model_name": "HTMLModel",
          "state": {
            "_dom_classes": [],
            "_model_module": "@jupyter-widgets/controls",
            "_model_module_version": "1.5.0",
            "_model_name": "HTMLModel",
            "_view_count": null,
            "_view_module": "@jupyter-widgets/controls",
            "_view_module_version": "1.5.0",
            "_view_name": "HTMLView",
            "description": "",
            "description_tooltip": null,
            "layout": "IPY_MODEL_cd310d66bdfb4c76b735f7bb23e6f741",
            "placeholder": "​",
            "style": "IPY_MODEL_9f7d1c9e59f14c26a337764c382dcbc2",
            "value": " 570/570 [00:00&lt;00:00, 28.7kB/s]"
          }
        },
        "fb3ce1334e6f459d8825855326da7b60": {
          "model_module": "@jupyter-widgets/controls",
          "model_module_version": "1.5.0",
          "model_name": "DescriptionStyleModel",
          "state": {
            "_model_module": "@jupyter-widgets/controls",
            "_model_module_version": "1.5.0",
            "_model_name": "DescriptionStyleModel",
            "_view_count": null,
            "_view_module": "@jupyter-widgets/base",
            "_view_module_version": "1.2.0",
            "_view_name": "StyleView",
            "description_width": ""
          }
        },
        "fd929467fa504561a4a4c8750199634e": {
          "model_module": "@jupyter-widgets/controls",
          "model_module_version": "1.5.0",
          "model_name": "ProgressStyleModel",
          "state": {
            "_model_module": "@jupyter-widgets/controls",
            "_model_module_version": "1.5.0",
            "_model_name": "ProgressStyleModel",
            "_view_count": null,
            "_view_module": "@jupyter-widgets/base",
            "_view_module_version": "1.2.0",
            "_view_name": "StyleView",
            "bar_color": null,
            "description_width": ""
          }
        },
        "ff32400f418446ed821a51a82d59f359": {
          "model_module": "@jupyter-widgets/controls",
          "model_module_version": "1.5.0",
          "model_name": "HTMLModel",
          "state": {
            "_dom_classes": [],
            "_model_module": "@jupyter-widgets/controls",
            "_model_module_version": "1.5.0",
            "_model_name": "HTMLModel",
            "_view_count": null,
            "_view_module": "@jupyter-widgets/controls",
            "_view_module_version": "1.5.0",
            "_view_name": "HTMLView",
            "description": "",
            "description_tooltip": null,
            "layout": "IPY_MODEL_36c935b6b1c2424a818a70f4b5f4a893",
            "placeholder": "​",
            "style": "IPY_MODEL_d95645bbd6de4071b448bf70ecf49223",
            "value": "Downloading (…)solve/main/vocab.txt: 100%"
          }
        }
      }
    }
  },
  "nbformat": 4,
  "nbformat_minor": 0
}
